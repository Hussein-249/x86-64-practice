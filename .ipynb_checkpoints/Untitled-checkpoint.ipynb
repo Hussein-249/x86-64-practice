{
 "cells": [
  {
   "cell_type": "markdown",
   "id": "3f6b5ead",
   "metadata": {},
   "source": [
    "Errors that you may encounter\n",
    "\n",
    "X86 assembly has multiple syntaxes and can be assembled by different assemblers, such as the GNU Assembler (GAS) or the Netwide Assembler (NASM). These tutorials are written for the NASM assembler – however, many tutorials write with a slightly different syntax for the GAS, and the assembling and linking instructions using GAS are slightly different. For example:\n"
   ]
  }
 ],
 "metadata": {
  "kernelspec": {
   "display_name": "Python 3 (ipykernel)",
   "language": "python",
   "name": "python3"
  },
  "language_info": {
   "codemirror_mode": {
    "name": "ipython",
    "version": 3
   },
   "file_extension": ".py",
   "mimetype": "text/x-python",
   "name": "python",
   "nbconvert_exporter": "python",
   "pygments_lexer": "ipython3",
   "version": "3.11.3"
  }
 },
 "nbformat": 4,
 "nbformat_minor": 5
}
